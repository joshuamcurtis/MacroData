{
 "cells": [
  {
   "cell_type": "code",
   "execution_count": 1,
   "id": "2e611dce",
   "metadata": {},
   "outputs": [],
   "source": [
    "import json\n",
    "import pandas as pd\n",
    "import requests\n",
    "import sqlite3 as db\n",
    "from sqlite3 import Error\n",
    "from datetime import datetime\n",
    "\n",
    "%run C:\\Users\\Joshua\\Jupyter_Notebook_Folders\\MacroData\\db_functions.py"
   ]
  },
  {
   "cell_type": "code",
   "execution_count": 2,
   "id": "feb58723",
   "metadata": {},
   "outputs": [],
   "source": [
    "'''def create_database(db_name):\n",
    "    \"\"\" \n",
    "    create an SQLite database\n",
    "    \"\"\"\n",
    "    conn = None\n",
    "    try:\n",
    "        conn = db.connect(db_name)\n",
    "    except Error as e:\n",
    "        print(e)\n",
    "    finally:\n",
    "        conn.close()\n",
    "'''\n",
    "        \n",
    "def create_log_table(db_name):\n",
    "    \n",
    "    conn = create_connection(db_name)\n",
    "    c = conn.cursor()\n",
    "    \n",
    "    sql_code = (\"\"\"CREATE TABLE data_log (\n",
    "                        log_id INTEGER PRIMARY KEY, \n",
    "                        seriesID TEXT,\n",
    "                        year INT, \n",
    "                        period TEXT, \n",
    "                        periodName TEXT, \n",
    "                        value REAL, \n",
    "                        date TEXT, \n",
    "                        date_original_insert TEXT);\"\"\")\n",
    "    try: \n",
    "        c.execute(sql_code)\n",
    "    except Error as e:\n",
    "        print(e)\n",
    "    conn.close()"
   ]
  },
  {
   "cell_type": "code",
   "execution_count": 3,
   "id": "1e9d8cde",
   "metadata": {},
   "outputs": [],
   "source": [
    "db_name = \"MacroData.sqlite3\""
   ]
  },
  {
   "cell_type": "code",
   "execution_count": 4,
   "id": "a213bb7d",
   "metadata": {},
   "outputs": [],
   "source": [
    "create_log_table(db_name)"
   ]
  }
 ],
 "metadata": {
  "kernelspec": {
   "display_name": "Python 3 (ipykernel)",
   "language": "python",
   "name": "python3"
  },
  "language_info": {
   "codemirror_mode": {
    "name": "ipython",
    "version": 3
   },
   "file_extension": ".py",
   "mimetype": "text/x-python",
   "name": "python",
   "nbconvert_exporter": "python",
   "pygments_lexer": "ipython3",
   "version": "3.9.12"
  }
 },
 "nbformat": 4,
 "nbformat_minor": 5
}
