{
 "cells": [
  {
   "cell_type": "code",
   "execution_count": null,
   "id": "86399203",
   "metadata": {},
   "outputs": [],
   "source": [
    "import json\n",
    "import requests\n",
    "\n",
    "%run C:\\Users\\Joshua\\Jupyter_Notebook_Folders\\APIkeys.py"
   ]
  },
  {
   "cell_type": "markdown",
   "id": "b6f6cfe1",
   "metadata": {},
   "source": [
    "### Consumer Price Index History:\n",
    "https://www.bls.gov/opub/hom/cpi/history.htm#:~:text=Although%20the%20official%20Consumer%20Price,back%20about%2030%20years%20earlier."
   ]
  },
  {
   "cell_type": "code",
   "execution_count": null,
   "id": "218f0a13",
   "metadata": {},
   "outputs": [],
   "source": [
    "surveys_url = \"https://api.bls.gov/publicAPI/v2/surveys\"\n",
    "s = requests.get(surveys_url)\n",
    "s_json = s.json()                          # Turn request into JSON \n",
    "surveys = s_json[\"Results\"][\"survey\"]      # Get list of surveys from the JSON\n",
    "surveys"
   ]
  }
 ],
 "metadata": {
  "kernelspec": {
   "display_name": "Python 3 (ipykernel)",
   "language": "python",
   "name": "python3"
  },
  "language_info": {
   "codemirror_mode": {
    "name": "ipython",
    "version": 3
   },
   "file_extension": ".py",
   "mimetype": "text/x-python",
   "name": "python",
   "nbconvert_exporter": "python",
   "pygments_lexer": "ipython3",
   "version": "3.9.12"
  }
 },
 "nbformat": 4,
 "nbformat_minor": 5
}
