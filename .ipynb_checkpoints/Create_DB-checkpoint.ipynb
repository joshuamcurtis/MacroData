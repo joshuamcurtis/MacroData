{
 "cells": [
  {
   "cell_type": "markdown",
   "id": "e264040c",
   "metadata": {},
   "source": [
    "### Create the MacroData DB if it does not already exist"
   ]
  },
  {
   "cell_type": "code",
   "execution_count": 3,
   "id": "fea9690f",
   "metadata": {},
   "outputs": [
    {
     "name": "stdout",
     "output_type": "stream",
     "text": [
      "2.6.0\n"
     ]
    }
   ],
   "source": [
    "import sqlite3 as db\n",
    "from sqlite3 import Error as e\n",
    "\n",
    "def create_database(db_name):\n",
    "    \"\"\" create an SQLite database\"\"\"\n",
    "    conn = None\n",
    "    try:\n",
    "        conn = db.connect(db_name)\n",
    "        print(db.version)\n",
    "    except e:\n",
    "        print(e)\n",
    "    finally:\n",
    "            conn.close()\n",
    "            \n",
    "            \n",
    "create_database(r\"MacroData\")"
   ]
  }
 ],
 "metadata": {
  "kernelspec": {
   "display_name": "Python 3 (ipykernel)",
   "language": "python",
   "name": "python3"
  },
  "language_info": {
   "codemirror_mode": {
    "name": "ipython",
    "version": 3
   },
   "file_extension": ".py",
   "mimetype": "text/x-python",
   "name": "python",
   "nbconvert_exporter": "python",
   "pygments_lexer": "ipython3",
   "version": "3.9.12"
  }
 },
 "nbformat": 4,
 "nbformat_minor": 5
}
