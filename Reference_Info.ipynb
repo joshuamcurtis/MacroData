{
 "cells": [
  {
   "cell_type": "code",
   "execution_count": 1,
   "id": "86399203",
   "metadata": {},
   "outputs": [],
   "source": [
    "import json\n",
    "import requests\n",
    "\n",
    "%run C:\\Users\\Joshua\\Jupyter_Notebook_Folders\\APIkeys.py"
   ]
  },
  {
   "cell_type": "markdown",
   "id": "b6f6cfe1",
   "metadata": {},
   "source": [
    "### Consumer Price Index History:\n",
    "https://www.bls.gov/opub/hom/cpi/history.htm#:~:text=Although%20the%20official%20Consumer%20Price,back%20about%2030%20years%20earlier."
   ]
  },
  {
   "cell_type": "code",
   "execution_count": 2,
   "id": "218f0a13",
   "metadata": {},
   "outputs": [
    {
     "data": {
      "text/plain": [
       "[{'survey_abbreviation': 'AP',\n",
       "  'survey_name': 'Consumer Price Index - Average Price Data'},\n",
       " {'survey_abbreviation': 'BD', 'survey_name': 'Business Employment Dynamics'},\n",
       " {'survey_abbreviation': 'BG',\n",
       "  'survey_name': 'Collective Bargaining Agreements-State and Local Government'},\n",
       " {'survey_abbreviation': 'BP',\n",
       "  'survey_name': 'Collective Bargaining Agreements-Private Sector'},\n",
       " {'survey_abbreviation': 'CC',\n",
       "  'survey_name': 'Employer Costs for Employee Compensation'},\n",
       " {'survey_abbreviation': 'CD',\n",
       "  'survey_name': 'Nonfatal cases involving days away from work: selected characteristics'},\n",
       " {'survey_abbreviation': 'CE',\n",
       "  'survey_name': 'Employment, Hours, and Earnings from the Current Employment Statistics survey (National)'},\n",
       " {'survey_abbreviation': 'CF',\n",
       "  'survey_name': 'Census of Fatal Occupational Injuries'},\n",
       " {'survey_abbreviation': 'CH',\n",
       "  'survey_name': 'Nonfatal cases involving days away from work: selected characteristics (2003 - 2010)'},\n",
       " {'survey_abbreviation': 'CI', 'survey_name': 'Employment Cost Index'},\n",
       " {'survey_abbreviation': 'CM',\n",
       "  'survey_name': 'Employer Costs for Employee Compensation'},\n",
       " {'survey_abbreviation': 'CS',\n",
       "  'survey_name': 'Nonfatal cases involving days away from work: selected characteristics (2011 forward)'},\n",
       " {'survey_abbreviation': 'CU',\n",
       "  'survey_name': 'Consumer Price Index - All Urban Consumers'},\n",
       " {'survey_abbreviation': 'CW',\n",
       "  'survey_name': 'Consumer Price Index - Urban Wage Earners and Clerical Workers'},\n",
       " {'survey_abbreviation': 'CX', 'survey_name': 'Consumer Expenditure Survey'},\n",
       " {'survey_abbreviation': 'EB', 'survey_name': 'Employee Benefits Survey'},\n",
       " {'survey_abbreviation': 'EC', 'survey_name': 'Employment Cost Index'},\n",
       " {'survey_abbreviation': 'EE',\n",
       "  'survey_name': 'National Employment, Hours, and Earnings'},\n",
       " {'survey_abbreviation': 'EI', 'survey_name': 'Import/Export Price Indexes'},\n",
       " {'survey_abbreviation': 'EN',\n",
       "  'survey_name': 'Quarterly Census of Employment and Wages'},\n",
       " {'survey_abbreviation': 'EP',\n",
       "  'survey_name': 'Employment Projections by Industry'},\n",
       " {'survey_abbreviation': 'EW',\n",
       "  'survey_name': 'Quarterly Census of Employment and Wages (SIC)'},\n",
       " {'survey_abbreviation': 'FI',\n",
       "  'survey_name': 'Census of Fatal Occupational Injuries (2003 - 2010)'},\n",
       " {'survey_abbreviation': 'FM',\n",
       "  'survey_name': 'Marital and family labor force statistics from the Current Population Survey'},\n",
       " {'survey_abbreviation': 'FW',\n",
       "  'survey_name': 'Census of Fatal Occupational Injuries (2011 forward)'},\n",
       " {'survey_abbreviation': 'GG', 'survey_name': 'Green Goods and Services'},\n",
       " {'survey_abbreviation': 'GP', 'survey_name': 'Geographic Profile'},\n",
       " {'survey_abbreviation': 'HC',\n",
       "  'survey_name': 'Nonfatal cases involving days away from work: Selected Characteristics (2002)'},\n",
       " {'survey_abbreviation': 'HS',\n",
       "  'survey_name': 'Occupational injuries and illnesses: industry data (pre-1989)'},\n",
       " {'survey_abbreviation': 'II',\n",
       "  'survey_name': 'Occupational injuries and illnesses: industry data'},\n",
       " {'survey_abbreviation': 'IN',\n",
       "  'survey_name': 'International Labor Comparison'},\n",
       " {'survey_abbreviation': 'IP', 'survey_name': 'Industry Productivity'},\n",
       " {'survey_abbreviation': 'IS',\n",
       "  'survey_name': 'Occupational injuries and illnesses industry data'},\n",
       " {'survey_abbreviation': 'JL',\n",
       "  'survey_name': 'Job Openings and Labor Turnover Survey'},\n",
       " {'survey_abbreviation': 'JT',\n",
       "  'survey_name': 'Job Openings and Labor Turnover Survey'},\n",
       " {'survey_abbreviation': 'LA',\n",
       "  'survey_name': 'Local Area Unemployment Statistics'},\n",
       " {'survey_abbreviation': 'LE',\n",
       "  'survey_name': 'Weekly and hourly earnings data from the Current Population Survey'},\n",
       " {'survey_abbreviation': 'LF',\n",
       "  'survey_name': 'Labor Force Statistics from the Current Population Survey (SIC)'},\n",
       " {'survey_abbreviation': 'LI',\n",
       "  'survey_name': 'Consumer Price Index - Department Store Inventory Price Index'},\n",
       " {'survey_abbreviation': 'LN',\n",
       "  'survey_name': 'Labor Force Statistics from the Current Population Survey'},\n",
       " {'survey_abbreviation': 'LU',\n",
       "  'survey_name': 'Union affiliation data from the Current Population Survey'},\n",
       " {'survey_abbreviation': 'ML', 'survey_name': 'Mass Layoff Statistics'},\n",
       " {'survey_abbreviation': 'MP',\n",
       "  'survey_name': 'Major Sector Multifactor Productivity'},\n",
       " {'survey_abbreviation': 'MU',\n",
       "  'survey_name': 'Consumer Price Index - All Urban Consumers (Old Series)'},\n",
       " {'survey_abbreviation': 'MW',\n",
       "  'survey_name': 'Consumer Price Index - Urban Wage Earners and Clerical Workers (Old Series)'},\n",
       " {'survey_abbreviation': 'NB',\n",
       "  'survey_name': 'National Compensation Survey-Benefits'},\n",
       " {'survey_abbreviation': 'NC', 'survey_name': 'National Compensation Survey'},\n",
       " {'survey_abbreviation': 'ND',\n",
       "  'survey_name': 'Producer Price Index Industry Data'},\n",
       " {'survey_abbreviation': 'NW', 'survey_name': 'National Compensation Survey'},\n",
       " {'survey_abbreviation': 'OE',\n",
       "  'survey_name': 'Occupational Employment Statistics'},\n",
       " {'survey_abbreviation': 'OR', 'survey_name': 'Occupational Requirements'},\n",
       " {'survey_abbreviation': 'PC',\n",
       "  'survey_name': 'Producer Price Index Industry Data'},\n",
       " {'survey_abbreviation': 'PD',\n",
       "  'survey_name': 'Producer Price Index - Discontinued (SIC)'},\n",
       " {'survey_abbreviation': 'PF',\n",
       "  'survey_name': 'Federal Government Productivity Index'},\n",
       " {'survey_abbreviation': 'PI', 'survey_name': 'Industry Productivity Index'},\n",
       " {'survey_abbreviation': 'PR',\n",
       "  'survey_name': 'Major Sector Productivity and Costs'},\n",
       " {'survey_abbreviation': 'SA',\n",
       "  'survey_name': 'State and Area Employment, Hours, and Earnings (SIC)'},\n",
       " {'survey_abbreviation': 'SH',\n",
       "  'survey_name': 'Occupational injuries and illnesses: industry data (1989-2001)'},\n",
       " {'survey_abbreviation': 'SI',\n",
       "  'survey_name': 'Occupational injuries and illnesses: industry data (2002)'},\n",
       " {'survey_abbreviation': 'SM',\n",
       "  'survey_name': 'State and Area Employment, Hours, and Earnings'},\n",
       " {'survey_abbreviation': 'SU',\n",
       "  'survey_name': 'Consumer Price Index - Chained Consumer Price Index'},\n",
       " {'survey_abbreviation': 'TU', 'survey_name': 'American Time Use'},\n",
       " {'survey_abbreviation': 'WD',\n",
       "  'survey_name': 'Producer Price Index Commodity-Discontinued Series'},\n",
       " {'survey_abbreviation': 'WM', 'survey_name': 'Wage Modeling'},\n",
       " {'survey_abbreviation': 'WP',\n",
       "  'survey_name': 'Producer Price Index-Commodities'},\n",
       " {'survey_abbreviation': 'WS', 'survey_name': 'Work Stoppage Data'}]"
      ]
     },
     "execution_count": 2,
     "metadata": {},
     "output_type": "execute_result"
    }
   ],
   "source": [
    "surveys_url = \"https://api.bls.gov/publicAPI/v2/surveys\"\n",
    "s = requests.get(surveys_url)\n",
    "s_json = s.json()                          # Turn request into JSON \n",
    "surveys = s_json[\"Results\"][\"survey\"]      # Get list of surveys from the JSON\n",
    "surveys"
   ]
  },
  {
   "cell_type": "markdown",
   "id": "31cd6241",
   "metadata": {},
   "source": [
    "### Series ID Formats"
   ]
  },
  {
   "cell_type": "code",
   "execution_count": null,
   "id": "9d20863c",
   "metadata": {},
   "outputs": [],
   "source": [
    "https://www.bls.gov/help/hlpforma.htm#CU"
   ]
  },
  {
   "cell_type": "markdown",
   "id": "1a3035c3",
   "metadata": {},
   "source": [
    "#### Consumer Price Index - All Urban Consumers\n",
    "\n",
    "                     1         2\n",
    "\t             12345678901234567890\n",
    "\tSeries ID    CUUR0000SA0L1E\n",
    "\tPositions       Value           Field Name\n",
    "\t1-2             CU              Prefix\n",
    "\t3               U               Not Seasonal Adjustment Code\n",
    "\t4               R               Periodicity Code\n",
    "\t5-8             0000            Area Code\n",
    "\t9               S               Base Code\n",
    "\t10-16           A0L1E           Item Code\n",
    "\t"
   ]
  }
 ],
 "metadata": {
  "kernelspec": {
   "display_name": "Python 3 (ipykernel)",
   "language": "python",
   "name": "python3"
  },
  "language_info": {
   "codemirror_mode": {
    "name": "ipython",
    "version": 3
   },
   "file_extension": ".py",
   "mimetype": "text/x-python",
   "name": "python",
   "nbconvert_exporter": "python",
   "pygments_lexer": "ipython3",
   "version": "3.9.12"
  }
 },
 "nbformat": 4,
 "nbformat_minor": 5
}
