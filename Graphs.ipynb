{
 "cells": [
  {
   "cell_type": "code",
   "execution_count": 1,
   "id": "342fd88f",
   "metadata": {},
   "outputs": [],
   "source": [
    "import matplotlib as mpl\n",
    "import matplotlib.dates as mdates\n",
    "import matplotlib.pyplot as plt\n",
    "import matplotlib.ticker as ticker\n",
    "%run C:\\Users\\Joshua\\Jupyter_Notebook_Folders\\MacroData\\Add_Data_DB.ipynb"
   ]
  },
  {
   "cell_type": "code",
   "execution_count": 2,
   "id": "5669c25b",
   "metadata": {},
   "outputs": [
    {
     "data": {
      "text/html": [
       "<div>\n",
       "<style scoped>\n",
       "    .dataframe tbody tr th:only-of-type {\n",
       "        vertical-align: middle;\n",
       "    }\n",
       "\n",
       "    .dataframe tbody tr th {\n",
       "        vertical-align: top;\n",
       "    }\n",
       "\n",
       "    .dataframe thead th {\n",
       "        text-align: right;\n",
       "    }\n",
       "</style>\n",
       "<table border=\"1\" class=\"dataframe\">\n",
       "  <thead>\n",
       "    <tr style=\"text-align: right;\">\n",
       "      <th></th>\n",
       "      <th>index</th>\n",
       "      <th>year</th>\n",
       "      <th>period</th>\n",
       "      <th>periodName</th>\n",
       "      <th>value</th>\n",
       "      <th>date</th>\n",
       "      <th>description</th>\n",
       "    </tr>\n",
       "  </thead>\n",
       "  <tbody>\n",
       "    <tr>\n",
       "      <th>0</th>\n",
       "      <td>0</td>\n",
       "      <td>1919</td>\n",
       "      <td>M01</td>\n",
       "      <td>January</td>\n",
       "      <td>16.5</td>\n",
       "      <td>1919-01-01</td>\n",
       "      <td>CPI for All Urban Consumers (CPI-U), All items...</td>\n",
       "    </tr>\n",
       "    <tr>\n",
       "      <th>1</th>\n",
       "      <td>1</td>\n",
       "      <td>1919</td>\n",
       "      <td>M02</td>\n",
       "      <td>February</td>\n",
       "      <td>16.2</td>\n",
       "      <td>1919-02-01</td>\n",
       "      <td>CPI for All Urban Consumers (CPI-U), All items...</td>\n",
       "    </tr>\n",
       "    <tr>\n",
       "      <th>2</th>\n",
       "      <td>2</td>\n",
       "      <td>1919</td>\n",
       "      <td>M03</td>\n",
       "      <td>March</td>\n",
       "      <td>16.4</td>\n",
       "      <td>1919-03-01</td>\n",
       "      <td>CPI for All Urban Consumers (CPI-U), All items...</td>\n",
       "    </tr>\n",
       "    <tr>\n",
       "      <th>3</th>\n",
       "      <td>3</td>\n",
       "      <td>1919</td>\n",
       "      <td>M04</td>\n",
       "      <td>April</td>\n",
       "      <td>16.7</td>\n",
       "      <td>1919-04-01</td>\n",
       "      <td>CPI for All Urban Consumers (CPI-U), All items...</td>\n",
       "    </tr>\n",
       "    <tr>\n",
       "      <th>4</th>\n",
       "      <td>4</td>\n",
       "      <td>1919</td>\n",
       "      <td>M05</td>\n",
       "      <td>May</td>\n",
       "      <td>16.9</td>\n",
       "      <td>1919-05-01</td>\n",
       "      <td>CPI for All Urban Consumers (CPI-U), All items...</td>\n",
       "    </tr>\n",
       "    <tr>\n",
       "      <th>...</th>\n",
       "      <td>...</td>\n",
       "      <td>...</td>\n",
       "      <td>...</td>\n",
       "      <td>...</td>\n",
       "      <td>...</td>\n",
       "      <td>...</td>\n",
       "      <td>...</td>\n",
       "    </tr>\n",
       "    <tr>\n",
       "      <th>955</th>\n",
       "      <td>955</td>\n",
       "      <td>1998</td>\n",
       "      <td>M08</td>\n",
       "      <td>August</td>\n",
       "      <td>163.4</td>\n",
       "      <td>1998-08-01</td>\n",
       "      <td>CPI for All Urban Consumers (CPI-U), All items...</td>\n",
       "    </tr>\n",
       "    <tr>\n",
       "      <th>956</th>\n",
       "      <td>956</td>\n",
       "      <td>1998</td>\n",
       "      <td>M09</td>\n",
       "      <td>September</td>\n",
       "      <td>163.6</td>\n",
       "      <td>1998-09-01</td>\n",
       "      <td>CPI for All Urban Consumers (CPI-U), All items...</td>\n",
       "    </tr>\n",
       "    <tr>\n",
       "      <th>957</th>\n",
       "      <td>957</td>\n",
       "      <td>1998</td>\n",
       "      <td>M10</td>\n",
       "      <td>October</td>\n",
       "      <td>164.0</td>\n",
       "      <td>1998-10-01</td>\n",
       "      <td>CPI for All Urban Consumers (CPI-U), All items...</td>\n",
       "    </tr>\n",
       "    <tr>\n",
       "      <th>958</th>\n",
       "      <td>958</td>\n",
       "      <td>1998</td>\n",
       "      <td>M11</td>\n",
       "      <td>November</td>\n",
       "      <td>164.0</td>\n",
       "      <td>1998-11-01</td>\n",
       "      <td>CPI for All Urban Consumers (CPI-U), All items...</td>\n",
       "    </tr>\n",
       "    <tr>\n",
       "      <th>959</th>\n",
       "      <td>959</td>\n",
       "      <td>1998</td>\n",
       "      <td>M12</td>\n",
       "      <td>December</td>\n",
       "      <td>163.9</td>\n",
       "      <td>1998-12-01</td>\n",
       "      <td>CPI for All Urban Consumers (CPI-U), All items...</td>\n",
       "    </tr>\n",
       "  </tbody>\n",
       "</table>\n",
       "<p>960 rows × 7 columns</p>\n",
       "</div>"
      ],
      "text/plain": [
       "     index  year period periodName  value       date  \\\n",
       "0        0  1919    M01    January   16.5 1919-01-01   \n",
       "1        1  1919    M02   February   16.2 1919-02-01   \n",
       "2        2  1919    M03      March   16.4 1919-03-01   \n",
       "3        3  1919    M04      April   16.7 1919-04-01   \n",
       "4        4  1919    M05        May   16.9 1919-05-01   \n",
       "..     ...   ...    ...        ...    ...        ...   \n",
       "955    955  1998    M08     August  163.4 1998-08-01   \n",
       "956    956  1998    M09  September  163.6 1998-09-01   \n",
       "957    957  1998    M10    October  164.0 1998-10-01   \n",
       "958    958  1998    M11   November  164.0 1998-11-01   \n",
       "959    959  1998    M12   December  163.9 1998-12-01   \n",
       "\n",
       "                                           description  \n",
       "0    CPI for All Urban Consumers (CPI-U), All items...  \n",
       "1    CPI for All Urban Consumers (CPI-U), All items...  \n",
       "2    CPI for All Urban Consumers (CPI-U), All items...  \n",
       "3    CPI for All Urban Consumers (CPI-U), All items...  \n",
       "4    CPI for All Urban Consumers (CPI-U), All items...  \n",
       "..                                                 ...  \n",
       "955  CPI for All Urban Consumers (CPI-U), All items...  \n",
       "956  CPI for All Urban Consumers (CPI-U), All items...  \n",
       "957  CPI for All Urban Consumers (CPI-U), All items...  \n",
       "958  CPI for All Urban Consumers (CPI-U), All items...  \n",
       "959  CPI for All Urban Consumers (CPI-U), All items...  \n",
       "\n",
       "[960 rows x 7 columns]"
      ]
     },
     "execution_count": 2,
     "metadata": {},
     "output_type": "execute_result"
    }
   ],
   "source": [
    "seriesID = \"CUUR0000SA0\"\n",
    "db_name = \"MacroData.sqlite3\"\n",
    "df = table_to_df(seriesID, db_name)\n",
    "df[\"date\"] = pd.to_datetime(df[\"date\"])\n",
    "df"
   ]
  },
  {
   "cell_type": "code",
   "execution_count": 5,
   "id": "f59b5681",
   "metadata": {},
   "outputs": [
    {
     "data": {
      "text/plain": [
       "pandas.core.series.Series"
      ]
     },
     "execution_count": 5,
     "metadata": {},
     "output_type": "execute_result"
    }
   ],
   "source": []
  },
  {
   "cell_type": "code",
   "execution_count": 6,
   "id": "6506bcab",
   "metadata": {},
   "outputs": [
    {
     "data": {
      "text/plain": [
       "[<matplotlib.lines.Line2D at 0x2ca9dfe9f10>]"
      ]
     },
     "execution_count": 6,
     "metadata": {},
     "output_type": "execute_result"
    },
    {
     "data": {
      "image/png": "[encoded data removed]",
      "text/plain": [
       "<Figure size 432x288 with 1 Axes>"
      ]
     },
     "metadata": {
      "needs_background": "light"
     },
     "output_type": "display_data"
    }
   ],
   "source": [
    "plt.plot(df['date'], df['value'])"
   ]
  },
  {
   "cell_type": "code",
   "execution_count": 9,
   "id": "8513df1f",
   "metadata": {},
   "outputs": [
    {
     "data": {
      "text/plain": [
       "[<matplotlib.lines.Line2D at 0x2ca9df676d0>]"
      ]
     },
     "execution_count": 9,
     "metadata": {},
     "output_type": "execute_result"
    },
    {
     "data": {
      "image/png": "[encoded data removed]",
      "text/plain": [
       "<Figure size 432x288 with 1 Axes>"
      ]
     },
     "metadata": {
      "needs_background": "light"
     },
     "output_type": "display_data"
    }
   ],
   "source": [
    "plt.plot(df['date'][0:12], df['value'][0:12], 'ro')"
   ]
  },
  {
   "cell_type": "code",
   "execution_count": 13,
   "id": "431e7c3f",
   "metadata": {},
   "outputs": [
    {
     "data": {
      "text/plain": [
       "[<matplotlib.lines.Line2D at 0x2caa3040f10>]"
      ]
     },
     "execution_count": 13,
     "metadata": {},
     "output_type": "execute_result"
    },
    {
     "data": {
      "image/png": "[encoded data removed]",
      "text/plain": [
       "<Figure size 432x288 with 1 Axes>"
      ]
     },
     "metadata": {
      "needs_background": "light"
     },
     "output_type": "display_data"
    }
   ],
   "source": [
    "plt.plot(df['date'][0:12], df['value'][0:12], 'g^')"
   ]
  },
  {
   "cell_type": "code",
   "execution_count": 14,
   "id": "cea97391",
   "metadata": {},
   "outputs": [
    {
     "data": {
      "text/plain": [
       "[<matplotlib.lines.Line2D at 0x2caa3064820>]"
      ]
     },
     "execution_count": 14,
     "metadata": {},
     "output_type": "execute_result"
    },
    {
     "data": {
      "image/png": "[encoded data removed]",
      "text/plain": [
       "<Figure size 432x288 with 1 Axes>"
      ]
     },
     "metadata": {
      "needs_background": "light"
     },
     "output_type": "display_data"
    }
   ],
   "source": [
    "plt.plot(df['date'][0:12], df['value'][0:12], 'bs')"
   ]
  },
  {
   "cell_type": "code",
   "execution_count": 19,
   "id": "abd806c4",
   "metadata": {},
   "outputs": [
    {
     "data": {
      "text/plain": [
       "[<matplotlib.lines.Line2D at 0x2caa323baf0>]"
      ]
     },
     "execution_count": 19,
     "metadata": {},
     "output_type": "execute_result"
    },
    {
     "data": {
      "image/png": "[encoded data removed]",
      "text/plain": [
       "<Figure size 432x288 with 1 Axes>"
      ]
     },
     "metadata": {
      "needs_background": "light"
     },
     "output_type": "display_data"
    }
   ],
   "source": [
    "plt.plot(df['date'][0:12], df['value'][0:12], 'g--')"
   ]
  },
  {
   "cell_type": "code",
   "execution_count": 20,
   "id": "67a987d2",
   "metadata": {},
   "outputs": [
    {
     "data": {
      "text/plain": [
       "[<matplotlib.lines.Line2D at 0x2caa3280400>]"
      ]
     },
     "execution_count": 20,
     "metadata": {},
     "output_type": "execute_result"
    },
    {
     "data": {
      "image/png": "[encoded data removed]",
      "text/plain": [
       "<Figure size 432x288 with 1 Axes>"
      ]
     },
     "metadata": {
      "needs_background": "light"
     },
     "output_type": "display_data"
    }
   ],
   "source": [
    "plt.plot(df['date'][0:12], df['value'][0:12], 'o--')"
   ]
  },
  {
   "cell_type": "code",
   "execution_count": 27,
   "id": "66777ae7",
   "metadata": {},
   "outputs": [
    {
     "data": {
      "text/plain": [
       "<BarContainer object of 12 artists>"
      ]
     },
     "execution_count": 27,
     "metadata": {},
     "output_type": "execute_result"
    },
    {
     "data": {
      "image/png": "[encoded data removed]",
      "text/plain": [
       "<Figure size 432x288 with 1 Axes>"
      ]
     },
     "metadata": {
      "needs_background": "light"
     },
     "output_type": "display_data"
    }
   ],
   "source": [
    "plt.bar(df['date'][0:12], df['value'][0:12], 20)"
   ]
  },
  {
   "cell_type": "code",
   "execution_count": null,
   "id": "78491418",
   "metadata": {},
   "outputs": [],
   "source": []
  }
 ],
 "metadata": {
  "kernelspec": {
   "display_name": "Python 3 (ipykernel)",
   "language": "python",
   "name": "python3"
  },
  "language_info": {
   "codemirror_mode": {
    "name": "ipython",
    "version": 3
   },
   "file_extension": ".py",
   "mimetype": "text/x-python",
   "name": "python",
   "nbconvert_exporter": "python",
   "pygments_lexer": "ipython3",
   "version": "3.9.12"
  }
 },
 "nbformat": 4,
 "nbformat_minor": 5
}
